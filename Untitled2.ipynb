{
  "nbformat": 4,
  "nbformat_minor": 0,
  "metadata": {
    "colab": {
      "provenance": [],
      "authorship_tag": "ABX9TyPxfPJFR3ScqZuokU/pvBHU",
      "include_colab_link": true
    },
    "kernelspec": {
      "name": "python3",
      "display_name": "Python 3"
    },
    "language_info": {
      "name": "python"
    }
  },
  "cells": [
    {
      "cell_type": "markdown",
      "metadata": {
        "id": "view-in-github",
        "colab_type": "text"
      },
      "source": [
        "<a href=\"https://colab.research.google.com/github/sacar6t9/own_linear_reg/blob/main/Untitled2.ipynb\" target=\"_parent\"><img src=\"https://colab.research.google.com/assets/colab-badge.svg\" alt=\"Open In Colab\"/></a>"
      ]
    },
    {
      "cell_type": "code",
      "execution_count": 2,
      "metadata": {
        "id": "rOUhcomDm9vb"
      },
      "outputs": [],
      "source": [
        "import pandas as pd\n",
        "import matplotlib.pyplot as plt\n"
      ]
    },
    {
      "cell_type": "code",
      "source": [
        "data=pd.read_csv(\"study_time_score.csv\")\n",
        "data.head()"
      ],
      "metadata": {
        "id": "T75P71ovnkms"
      },
      "execution_count": null,
      "outputs": []
    },
    {
      "cell_type": "code",
      "source": [
        "plt.scatter(data.StudyTime,data.Score)\n",
        "plt.show()"
      ],
      "metadata": {
        "id": "VpBs02WEntdk"
      },
      "execution_count": null,
      "outputs": []
    },
    {
      "cell_type": "code",
      "source": [
        "def loss_function(m,b,points):\n",
        "  total_error=0\n",
        "  for i in range(len(points)):\n",
        "    x=points.iloc[i].StudyTime\n",
        "    y=points.iloc[i].Score\n",
        "    total_error += (y-(m * x + b ) **2 )\n",
        "  total_error / float(len(points))"
      ],
      "metadata": {
        "id": "kdTdwXa0oEV_"
      },
      "execution_count": 7,
      "outputs": []
    },
    {
      "cell_type": "code",
      "source": [
        "def gradient_descent(m_now,b_now,points,lr):\n",
        "  m_gradient=0\n",
        "  b_gradient=0\n",
        "  n=len(points)\n",
        "  for i in range(int(n)):\n",
        "    x=points.iloc[i].StudyTime\n",
        "    y=points.iloc[i].Score\n",
        "    m_gradient += -(2/n) * x*(y-(m_now *x +b_now))\n",
        "    b_gradient += -(2/n)* (y-(m_now * x +b_now))\n",
        "  m=m_now-m_gradient * lr\n",
        "  b=b_now-b_gradient * lr\n",
        "  return m,b"
      ],
      "metadata": {
        "id": "vNdPgMQopwm9"
      },
      "execution_count": 17,
      "outputs": []
    },
    {
      "cell_type": "code",
      "source": [
        "m=0\n",
        "b=0\n",
        "lr=0.0001\n",
        "epochs=1000\n",
        "for i in range(epochs):\n",
        "  if i%50==0:\n",
        "    print(f'epochs : {i}')\n",
        "  m,b=gradient_descent(m,b,data,lr)\n",
        "print(m,b)\n",
        "plt.scatter(data.StudyTime,data.Score,color='black')\n",
        "plt.plot(list(range(20,80)),[m* x + b for x in range(20,80)],color='red' )\n",
        "plt.show()"
      ],
      "metadata": {
        "id": "TKfVB-A4rvr0"
      },
      "execution_count": null,
      "outputs": []
    },
    {
      "cell_type": "code",
      "source": [],
      "metadata": {
        "id": "3gg-yeKMta_s"
      },
      "execution_count": null,
      "outputs": []
    }
  ]
}